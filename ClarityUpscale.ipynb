{
  "nbformat": 4,
  "nbformat_minor": 0,
  "metadata": {
    "colab": {
      "provenance": [],
      "include_colab_link": true
    },
    "kernelspec": {
      "name": "python3",
      "display_name": "Python 3"
    },
    "language_info": {
      "name": "python"
    }
  },
  "cells": [
    {
      "cell_type": "markdown",
      "metadata": {
        "id": "view-in-github",
        "colab_type": "text"
      },
      "source": [
        "<a href=\"https://colab.research.google.com/github/trippyvortex/Clarity_Colab_Notebook/blob/main/ClarityUpscale.ipynb\" target=\"_parent\"><img src=\"https://colab.research.google.com/assets/colab-badge.svg\" alt=\"Open In Colab\"/></a>"
      ]
    },
    {
      "cell_type": "code",
      "execution_count": null,
      "metadata": {
        "id": "LbQGp3t6Z-Qb"
      },
      "outputs": [],
      "source": [
        "pip install replicate"
      ]
    },
    {
      "cell_type": "code",
      "source": [
        "import os\n",
        "\n",
        "# Set the environment variable\n",
        "os.environ['REPLICATE_API_TOKEN'] = 'repalce this text with your replicate api token'\n",
        "\n",
        "# Verify that the environment variable is set\n",
        "print(os.environ['REPLICATE_API_TOKEN'])\n"
      ],
      "metadata": {
        "id": "3vi8mdrtaNiQ"
      },
      "execution_count": null,
      "outputs": []
    },
    {
      "cell_type": "code",
      "source": [
        "import replicate"
      ],
      "metadata": {
        "id": "01bqD84xalwy"
      },
      "execution_count": null,
      "outputs": []
    },
    {
      "cell_type": "code",
      "source": [
        "output = replicate.run(\n",
        "    \"philz1337x/clarity-upscaler:f11a4727f8f995d2795079196ebda1bcbc641938e032154f46488fc3e760eb79\",\n",
        "    input={\n",
        "        \"seed\": 1337,\n",
        "        \"image\": \"/content/frame0001.jpg\",\n",
        "        \"prompt\": \"masterpiece, best quality, highres, <lora:more_details:0.5> <lora:SDXLrender_v2.0:1>\",\n",
        "        \"dynamic\": 6,\n",
        "        \"handfix\": \"disabled\",\n",
        "        \"sharpen\": 0,\n",
        "        \"sd_model\": \"juggernaut_reborn.safetensors [338b85bc4f]\",\n",
        "        \"scheduler\": \"DPM++ 3M SDE Karras\",\n",
        "        \"creativity\": 0.35,\n",
        "        \"lora_links\": \"\",\n",
        "        \"downscaling\": False,\n",
        "        \"resemblance\": 0.6,\n",
        "        \"scale_factor\": 2,\n",
        "        \"tiling_width\": 112,\n",
        "        \"output_format\": \"png\",\n",
        "        \"tiling_height\": 144,\n",
        "        \"custom_sd_model\": \"\",\n",
        "        \"negative_prompt\": \"(worst quality, low quality, normal quality:2) JuggernautNegative-neg\",\n",
        "        \"num_inference_steps\": 18,\n",
        "        \"downscaling_resolution\": 768\n",
        "    }\n",
        ")\n",
        "print(output)"
      ],
      "metadata": {
        "id": "sbCzH3Y6aqbK"
      },
      "execution_count": null,
      "outputs": []
    },
    {
      "cell_type": "markdown",
      "source": [
        "#Try this below for uploading a short video. I couldnt get it to work before running out of replicate free time, but it may work."
      ],
      "metadata": {
        "id": "3k165mGvqKPr"
      }
    },
    {
      "cell_type": "code",
      "source": [
        "# Install necessary libraries\n",
        "!pip install opencv-python-headless\n",
        "!pip install ffmpeg-python\n",
        "!pip install tqdm\n",
        "!pip install replicate\n",
        "from google.colab import files\n",
        "\n",
        "uploaded = files.upload()\n",
        "\n"
      ],
      "metadata": {
        "id": "WxXyHHDhbnq8"
      },
      "execution_count": null,
      "outputs": []
    },
    {
      "cell_type": "code",
      "source": [
        "import os\n",
        "import cv2\n",
        "import ffmpeg\n",
        "\n",
        "uploaded_file = list(uploaded.keys())[0]\n",
        "input_path = f'/content/{uploaded_file}'\n",
        "\n",
        "if uploaded_file.endswith(('.mp4', '.avi', '.mov')):\n",
        "    # Create a directory to save frames\n",
        "    os.makedirs('frames', exist_ok=True)\n",
        "\n",
        "    # Capture the video\n",
        "    cap = cv2.VideoCapture(input_path)\n",
        "    frame_count = int(cap.get(cv2.CAP_PROP_FRAME_COUNT))\n",
        "    frame_rate = int(cap.get(cv2.CAP_PROP_FPS))\n",
        "\n",
        "    count = 0\n",
        "    while cap.isOpened():\n",
        "        ret, frame = cap.read()\n",
        "        if not ret:\n",
        "            break\n",
        "        cv2.imwrite(f'frames/frame_{count:04d}.png', frame)\n",
        "        count += 1\n",
        "\n",
        "    cap.release()\n",
        "    cv2.destroyAllWindows()\n",
        "    print(f'Extracted {count} frames from the video.')\n",
        "else:\n",
        "    # Assuming uploaded files are images in a folder\n",
        "    os.makedirs('frames', exist_ok=True)\n",
        "    for file_name in uploaded.keys():\n",
        "        os.rename(f'/content/{file_name}', f'frames/{file_name}')\n",
        "    frame_count = len(uploaded)\n",
        "    frame_rate = 24  # Default FPS for images, can be changed based on user input\n",
        "    print(f'Uploaded {frame_count} images.')\n"
      ],
      "metadata": {
        "id": "f3CqBts8bryl"
      },
      "execution_count": null,
      "outputs": []
    },
    {
      "cell_type": "code",
      "source": [
        "import replicate\n",
        "from tqdm import tqdm\n",
        "import requests\n",
        "\n",
        "upscaled_dir = 'upscaled_frames'\n",
        "os.makedirs(upscaled_dir, exist_ok=True)\n",
        "\n",
        "# Replace the API token with your actual token\n",
        "REPLICATE_API_TOKEN = 'replace this text with your replicate api token'\n",
        "replicate.Client(api_token=REPLICATE_API_TOKEN)\n",
        "\n",
        "for frame_file in tqdm(sorted(os.listdir('frames'))):\n",
        "    frame_path = os.path.join('frames', frame_file)\n",
        "    output = replicate.run(\n",
        "        \"philz1337x/clarity-upscaler:f11a4727f8f995d2795079196ebda1bcbc641938e032154f46488fc3e760eb79\",\n",
        "        input={\n",
        "            \"seed\": 1337,\n",
        "            \"image\": open(frame_path, \"rb\"),\n",
        "            \"prompt\": \"masterpiece, best quality, highres, <lora:more_details:0.5> <lora:SDXLrender_v2.0:1>\",\n",
        "            \"dynamic\": 6,\n",
        "            \"handfix\": \"disabled\",\n",
        "            \"sharpen\": 0,\n",
        "            \"sd_model\": \"juggernaut_reborn.safetensors [338b85bc4f]\",\n",
        "            \"scheduler\": \"DPM++ 3M SDE Karras\",\n",
        "            \"creativity\": 0.35,\n",
        "            \"lora_links\": \"\",\n",
        "            \"downscaling\": False,\n",
        "            \"resemblance\": 0.6,\n",
        "            \"scale_factor\": 2,\n",
        "            \"tiling_width\": 112,\n",
        "            \"output_format\": \"png\",\n",
        "            \"tiling_height\": 144,\n",
        "            \"custom_sd_model\": \"\",\n",
        "            \"negative_prompt\": \"(worst quality, low quality, normal quality:2) JuggernautNegative-neg\",\n",
        "            \"num_inference_steps\": 18,\n",
        "            \"downscaling_resolution\": 768\n",
        "        }\n",
        "    )\n",
        "\n",
        "    # Output from replicate.run is a list of URLs\n",
        "    upscaled_image_url = output[0]\n",
        "\n",
        "    # Download the upscaled image\n",
        "    response = requests.get(upscaled_image_url)\n",
        "    upscaled_frame_path = os.path.join(upscaled_dir, frame_file)\n",
        "\n",
        "    with open(upscaled_frame_path, 'wb') as f:\n",
        "        f.write(response.content)\n"
      ],
      "metadata": {
        "id": "QFSFD2A5brpV"
      },
      "execution_count": null,
      "outputs": []
    }
  ]
}